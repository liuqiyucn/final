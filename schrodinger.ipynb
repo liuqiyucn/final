{
 "cells": [
  {
   "cell_type": "code",
   "execution_count": 1,
   "metadata": {},
   "outputs": [
    {
     "name": "stdout",
     "output_type": "stream",
     "text": [
      "cuda\n"
     ]
    }
   ],
   "source": [
    "import numpy as np\n",
    "from scipy.sparse.linalg import eigsh\n",
    "from scipy.sparse.linalg import eigs\n",
    "import matplotlib.pyplot as plt\n",
    "from matplotlib import animation\n",
    "from mpl_toolkits.mplot3d import Axes3D\n",
    "from matplotlib.animation import PillowWriter\n",
    "import scienceplots\n",
    "plt.style.use(['science', 'notebook'])\n",
    "from scipy import sparse\n",
    "#from skimage import measure\n",
    "import torch\n",
    "import plotly.graph_objects as go\n",
    "from torch import lobpcg\n",
    "device = torch.device('cuda' if torch.cuda.is_available() else 'cpu')"
   ]
  },
  {
   "attachments": {},
   "cell_type": "markdown",
   "metadata": {},
   "source": [
    "Create a meshgrid of $x$ and $y$ coordinates"
   ]
  },
  {
   "cell_type": "code",
   "execution_count": null,
   "metadata": {},
   "outputs": [],
   "source": [
    "N = 400\n",
    "X, Y = np.mgrid[0:1:N*1j,0:1:N*1j]"
   ]
  },
  {
   "attachments": {},
   "cell_type": "markdown",
   "metadata": {},
   "source": [
    "Eigenstates of the Schrodinger equation satisfy $H\\psi = E\\psi$ where $H$ is the Hamiltonian operator, and $E$ and $\\psi$ represent the eigenvalues/eigenstates. The Hamiltonian Operator in 2D is\n",
    "\n",
    "$$H = -\\frac{1}{2m}\\left( \\frac{\\partial^2}{\\partial x^2} + \\frac{\\partial^2}{\\partial y^2}\\right) + V(x,y)$$\n",
    "\n",
    "If we discretize $\\psi$ into a vector (spacing $\\Delta x$), the equation $H\\psi = E\\psi$ can be arranged and rewritten in 2 dimensions as\n",
    "\n",
    "$$\\left[-\\frac{1}{2}(D \\oplus D) + m\\Delta x^2 V \\right] \\psi = \\left(m \\Delta x^2 E\\right) \\psi$$\n",
    "\n",
    "where\n",
    "\n",
    "* $\\psi$ is a vector of length $N^2$ where $N$ is the number of discretized points in $x$ and $y$\n",
    "* $D$ is an $N \\times N$ matrix with -2 on the main diagonal and 1 on the two neighbouring diagonals.\n",
    "* $D \\oplus D$: the kronecker sum of $D$ with itself so that the derivative matrix is effectively converted to operate on a \"2D\" vector\n",
    "* $V$ is a diagonal $N^2 \\times N^2$ matrix with each entry on the diagonal representative of the potential at that particular coordinate.\n",
    "\n",
    " Firstly, we define our potential in units of $m \\Delta x^2$; in other words `get_potential` actually returns $m\\Delta x^2 V$"
   ]
  },
  {
   "cell_type": "code",
   "execution_count": null,
   "metadata": {},
   "outputs": [],
   "source": [
    "def get_potential(x, y):\n",
    "    return np.exp(-(x-0.3)**2/(2*0.1**2))*np.exp(-(y-0.3)**2/(2*0.1**2))\n",
    "V = get_potential(X,Y)"
   ]
  },
  {
   "attachments": {},
   "cell_type": "markdown",
   "metadata": {},
   "source": [
    "Now we construct\n",
    "\n",
    "$$- \\frac{1}{2} D \\oplus D + m\\Delta x^2 V $$\n",
    "\n",
    "Let $T=- \\frac{1}{2} D \\oplus D$ and $U = m\\Delta x^2 V$"
   ]
  },
  {
   "cell_type": "code",
   "execution_count": null,
   "metadata": {},
   "outputs": [],
   "source": [
    "V.reshape(N**2).shape"
   ]
  },
  {
   "cell_type": "code",
   "execution_count": null,
   "metadata": {},
   "outputs": [],
   "source": [
    "diag = np.ones([N])\n",
    "diags = np.array([diag, -2*diag, diag])\n",
    "D = sparse.spdiags(diags, np.array([-1,0,1]), N, N)\n",
    "T = -1/2 * sparse.kronsum(D,D)\n",
    "U = sparse.diags(V.reshape(N**2), (0))\n",
    "H = T+U"
   ]
  },
  {
   "attachments": {},
   "cell_type": "markdown",
   "metadata": {},
   "source": [
    "Convert to sparse pytorch tensor"
   ]
  },
  {
   "cell_type": "code",
   "execution_count": null,
   "metadata": {},
   "outputs": [],
   "source": [
    "H = H.tocoo()\n",
    "H = torch.sparse_coo_tensor(indices=torch.tensor([H.row, H.col]), values=torch.tensor(H.data), size=H.shape).to(device)"
   ]
  },
  {
   "attachments": {},
   "cell_type": "markdown",
   "metadata": {},
   "source": [
    "Compute the eigenvalues and eigenvectors:"
   ]
  },
  {
   "cell_type": "code",
   "execution_count": null,
   "metadata": {},
   "outputs": [],
   "source": [
    "eigenvalues, eigenvectors = lobpcg(H, k=10, largest=False)"
   ]
  },
  {
   "cell_type": "code",
   "execution_count": null,
   "metadata": {},
   "outputs": [],
   "source": [
    "def get_e(n):\n",
    "    return eigenvectors.T[n].reshape((N,N)).cpu()"
   ]
  },
  {
   "cell_type": "code",
   "execution_count": null,
   "metadata": {},
   "outputs": [],
   "source": [
    "plt.figure(figsize=(6,6))\n",
    "plt.pcolormesh(X, Y, get_e(1)**2, cmap='nipy_spectral')\n",
    "plt.axis('off')\n",
    "plt.show()"
   ]
  },
  {
   "attachments": {},
   "cell_type": "markdown",
   "metadata": {},
   "source": [
    "# Moving To 3D"
   ]
  },
  {
   "attachments": {},
   "cell_type": "markdown",
   "metadata": {},
   "source": [
    "The hydrogen atom potential (choosing $\\hbar=1$) can be expressed as\n",
    "\n",
    "$$V(r) = -\\frac{e^2}{4 \\pi \\epsilon_0 r} = -\\frac{1}{m a_0 r}$$\n",
    "\n",
    "and thus \n",
    "\n",
    "$$m \\Delta x^2 V = -\\frac{\\Delta x^2}{a_0 r} = -\\frac{(\\Delta x/a_0)^2}{(r/a_0)}$$\n",
    "\n",
    "So we'll express $\\Delta x$ and $r$ in units of $a_0$"
   ]
  },
  {
   "cell_type": "code",
   "execution_count": null,
   "metadata": {},
   "outputs": [],
   "source": [
    "N = 120\n",
    "X, Y, Z = np.mgrid[-25:25:N*1j, -25:25:N*1j, -25:25:N*1j] # in units of a0, 25 is good\n",
    "dx = np.diff(X[:,0,0])[0] # in units of a0"
   ]
  },
  {
   "attachments": {},
   "cell_type": "markdown",
   "metadata": {},
   "source": [
    "Function to get hydrogen wave function potential"
   ]
  },
  {
   "cell_type": "code",
   "execution_count": null,
   "metadata": {},
   "outputs": [],
   "source": [
    "def get_potential(x, y, z):\n",
    "    return - dx**2 / np.sqrt(x**2 + y**2 + z**2 + 1e-10)\n",
    "V = get_potential(X,Y,Z)"
   ]
  },
  {
   "cell_type": "code",
   "execution_count": null,
   "metadata": {},
   "outputs": [],
   "source": [
    "V.shape"
   ]
  },
  {
   "attachments": {},
   "cell_type": "markdown",
   "metadata": {},
   "source": [
    "Now that we're in 3D, our matrix should be written as\n",
    "\n",
    "$$\\left[-\\frac{1}{2}(D \\oplus D \\oplus D) + m\\Delta x^2 V \\right] \\psi = \\left(m \\Delta x^2 E\\right) \\psi$$"
   ]
  },
  {
   "cell_type": "code",
   "execution_count": null,
   "metadata": {},
   "outputs": [],
   "source": [
    "diag = np.ones([N])\n",
    "diags = np.array([diag, -2*diag, diag])\n",
    "D = sparse.spdiags(diags, np.array([-1,0,1]), N, N)\n",
    "T = -1/2 * sparse.kronsum(sparse.kronsum(D,D), D)\n",
    "U = sparse.diags(V.reshape(N**3), (0))\n",
    "H = T+U"
   ]
  },
  {
   "cell_type": "code",
   "execution_count": null,
   "metadata": {},
   "outputs": [],
   "source": [
    "H.shape"
   ]
  },
  {
   "attachments": {},
   "cell_type": "markdown",
   "metadata": {},
   "source": [
    "Convert to sparse PyTorch tensor"
   ]
  },
  {
   "cell_type": "code",
   "execution_count": null,
   "metadata": {},
   "outputs": [],
   "source": [
    "H = H.tocoo()\n",
    "H = torch.sparse_coo_tensor(indices=torch.tensor([H.row, H.col]), values=torch.tensor(H.data), size=H.shape).to(device)"
   ]
  },
  {
   "attachments": {},
   "cell_type": "markdown",
   "metadata": {},
   "source": [
    "Compute eigenvalues/eigenvectors"
   ]
  },
  {
   "cell_type": "code",
   "execution_count": null,
   "metadata": {},
   "outputs": [],
   "source": [
    "eigenvalues, eigenvectors = lobpcg(H, k=20, largest=False)"
   ]
  },
  {
   "attachments": {},
   "cell_type": "markdown",
   "metadata": {},
   "source": [
    "Function to get eigenvector:"
   ]
  },
  {
   "cell_type": "code",
   "execution_count": null,
   "metadata": {},
   "outputs": [],
   "source": [
    "def get_e(n):\n",
    "    return eigenvectors.T[n].reshape((N,N,N)).cpu().numpy()"
   ]
  },
  {
   "attachments": {},
   "cell_type": "markdown",
   "metadata": {},
   "source": [
    "Compute vertices and faces corresponding to iso-surface of eigenfunction so we can show it off in 3D"
   ]
  },
  {
   "cell_type": "code",
   "execution_count": null,
   "metadata": {},
   "outputs": [],
   "source": [
    "verts, faces, _, _ = measure.marching_cubes(get_e(3)**2, 1e-6, spacing=(0.1, 0.1, 0.1))\n",
    "intensity = np.linalg.norm(verts, axis=1)"
   ]
  },
  {
   "cell_type": "code",
   "execution_count": null,
   "metadata": {},
   "outputs": [],
   "source": [
    "fig = go.Figure(data=[go.Mesh3d(x=verts[:, 0], y=verts[:, 1], z=verts[:, 2], \n",
    "                                i=faces[:, 0], j=faces[:, 1], k=faces[:, 2],\n",
    "                                intensity=intensity,\n",
    "                                colorscale='Agsunset',\n",
    "                                opacity=0.5)])\n",
    "\n",
    "fig.update_layout(scene=dict(xaxis=dict(visible=False),\n",
    "                              yaxis=dict(visible=False),\n",
    "                              zaxis=dict(visible=False),\n",
    "                              bgcolor='rgb(0, 0, 0)'),\n",
    "                  margin=dict(l=0, r=0, b=0, t=0))\n",
    "fig.show()"
   ]
  },
  {
   "attachments": {},
   "cell_type": "markdown",
   "metadata": {},
   "source": []
  },
  {
   "attachments": {},
   "cell_type": "markdown",
   "metadata": {},
   "source": [
    "Plot the eigenvalue Spectrum:\n",
    "\n",
    "* The eigenvalues we found are $\\mu = m \\Delta x^2 E$. First we insert $\\hbar$ in to make this dimensionless (no longer use the convention $\\hbar=1$)  so that $\\mu = m \\Delta x^2 E / \\hbar^2$. Then, identifying that we made $\\Delta$ x in units of $a$, we insert $a$ into the expression so that $\\mu = m (a \\Delta x)^2 E / \\hbar^2$ solving for $E$,\n",
    "\n",
    "$$E = \\frac{\\hbar^2}{m \\Delta x^2 a^2}$$"
   ]
  },
  {
   "cell_type": "code",
   "execution_count": null,
   "metadata": {},
   "outputs": [],
   "source": [
    "hbar = 1.055e-34\n",
    "a = 5.29e-11\n",
    "m = 9.11e-31\n",
    "J_to_eV = 6.242e18 # convert from Joules to eV\n",
    "conversion = hbar**2 / m / dx**2 / a**2 * J_to_eV "
   ]
  },
  {
   "cell_type": "code",
   "execution_count": null,
   "metadata": {},
   "outputs": [],
   "source": [
    "plt.plot(eigenvalues.cpu() * conversion, 'o')\n",
    "plt.xlabel('k')\n",
    "plt.ylabel('Eigenvalue [eV]')\n",
    "plt.grid()"
   ]
  },
  {
   "cell_type": "code",
   "execution_count": null,
   "metadata": {},
   "outputs": [],
   "source": [
    "eigenvalues.cpu() * conversion,"
   ]
  },
  {
   "cell_type": "code",
   "execution_count": null,
   "metadata": {},
   "outputs": [],
   "source": []
  }
 ],
 "metadata": {
  "kernelspec": {
   "display_name": "pytorch",
   "language": "python",
   "name": "python3"
  },
  "language_info": {
   "codemirror_mode": {
    "name": "ipython",
    "version": 3
   },
   "file_extension": ".py",
   "mimetype": "text/x-python",
   "name": "python",
   "nbconvert_exporter": "python",
   "pygments_lexer": "ipython3",
   "version": "3.10.11"
  },
  "orig_nbformat": 4
 },
 "nbformat": 4,
 "nbformat_minor": 2
}
